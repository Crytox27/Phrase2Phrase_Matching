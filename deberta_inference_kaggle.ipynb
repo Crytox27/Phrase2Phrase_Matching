{
 "cells": [
  {
   "cell_type": "code",
   "execution_count": 1,
   "id": "40f52c15",
   "metadata": {
    "_cell_guid": "b1076dfc-b9ad-4769-8c92-a6c4dae69d19",
    "_uuid": "8f2839f25d086af736a60e9eeb907d3b93b6e0e5",
    "execution": {
     "iopub.execute_input": "2022-11-16T21:19:04.657857Z",
     "iopub.status.busy": "2022-11-16T21:19:04.656571Z",
     "iopub.status.idle": "2022-11-16T21:19:04.664507Z",
     "shell.execute_reply": "2022-11-16T21:19:04.663597Z"
    },
    "papermill": {
     "duration": 0.017277,
     "end_time": "2022-11-16T21:19:04.666733",
     "exception": false,
     "start_time": "2022-11-16T21:19:04.649456",
     "status": "completed"
    },
    "tags": []
   },
   "outputs": [],
   "source": [
    "# This Python 3 environment comes with many helpful analytics libraries installed\n",
    "# It is defined by the kaggle/python Docker image: https://github.com/kaggle/docker-python\n",
    "# For example, here's several helpful packages to load\n",
    "\n",
    "# import numpy as np # linear algebra\n",
    "# import pandas as pd # data processing, CSV file I/O (e.g. pd.read_csv)\n",
    "\n",
    "# Input data files are available in the read-only \"../input/\" directory\n",
    "# For example, running this (by clicking run or pressing Shift+Enter) will list all files under the input directory\n",
    "\n",
    "# import os\n",
    "# for dirname, _, filenames in os.walk('/kaggle/input'):\n",
    "#     for filename in filenames:\n",
    "#         print(os.path.join(dirname, filename))\n",
    "\n",
    "# You can write up to 20GB to the current directory (/kaggle/working/) that gets preserved as output when you create a version using \"Save & Run All\" \n",
    "# You can also write temporary files to /kaggle/temp/, but they won't be saved outside of the current session"
   ]
  },
  {
   "cell_type": "code",
   "execution_count": 2,
   "id": "d39581e7",
   "metadata": {
    "execution": {
     "iopub.execute_input": "2022-11-16T21:19:04.675823Z",
     "iopub.status.busy": "2022-11-16T21:19:04.675463Z",
     "iopub.status.idle": "2022-11-16T21:20:08.297955Z",
     "shell.execute_reply": "2022-11-16T21:20:08.296585Z"
    },
    "papermill": {
     "duration": 63.629789,
     "end_time": "2022-11-16T21:20:08.300574",
     "exception": false,
     "start_time": "2022-11-16T21:19:04.670785",
     "status": "completed"
    },
    "tags": []
   },
   "outputs": [
    {
     "name": "stdout",
     "output_type": "stream",
     "text": [
      "Requirement already satisfied: transformers in /opt/conda/lib/python3.7/site-packages (4.20.1)\r\n",
      "Requirement already satisfied: tokenizers!=0.11.3,<0.13,>=0.11.1 in /opt/conda/lib/python3.7/site-packages (from transformers) (0.12.1)\r\n",
      "Requirement already satisfied: pyyaml>=5.1 in /opt/conda/lib/python3.7/site-packages (from transformers) (6.0)\r\n",
      "Requirement already satisfied: regex!=2019.12.17 in /opt/conda/lib/python3.7/site-packages (from transformers) (2021.11.10)\r\n",
      "Requirement already satisfied: tqdm>=4.27 in /opt/conda/lib/python3.7/site-packages (from transformers) (4.64.0)\r\n",
      "Requirement already satisfied: huggingface-hub<1.0,>=0.1.0 in /opt/conda/lib/python3.7/site-packages (from transformers) (0.10.1)\r\n",
      "Requirement already satisfied: importlib-metadata in /opt/conda/lib/python3.7/site-packages (from transformers) (4.13.0)\r\n",
      "Requirement already satisfied: packaging>=20.0 in /opt/conda/lib/python3.7/site-packages (from transformers) (21.3)\r\n",
      "Requirement already satisfied: requests in /opt/conda/lib/python3.7/site-packages (from transformers) (2.28.1)\r\n",
      "Requirement already satisfied: numpy>=1.17 in /opt/conda/lib/python3.7/site-packages (from transformers) (1.21.6)\r\n",
      "Requirement already satisfied: filelock in /opt/conda/lib/python3.7/site-packages (from transformers) (3.7.1)\r\n",
      "Requirement already satisfied: typing-extensions>=3.7.4.3 in /opt/conda/lib/python3.7/site-packages (from huggingface-hub<1.0,>=0.1.0->transformers) (4.1.1)\r\n",
      "Requirement already satisfied: pyparsing!=3.0.5,>=2.0.2 in /opt/conda/lib/python3.7/site-packages (from packaging>=20.0->transformers) (3.0.9)\r\n",
      "Requirement already satisfied: zipp>=0.5 in /opt/conda/lib/python3.7/site-packages (from importlib-metadata->transformers) (3.8.0)\r\n",
      "Requirement already satisfied: urllib3<1.27,>=1.21.1 in /opt/conda/lib/python3.7/site-packages (from requests->transformers) (1.26.12)\r\n",
      "Requirement already satisfied: idna<4,>=2.5 in /opt/conda/lib/python3.7/site-packages (from requests->transformers) (3.3)\r\n",
      "Requirement already satisfied: certifi>=2017.4.17 in /opt/conda/lib/python3.7/site-packages (from requests->transformers) (2022.9.24)\r\n",
      "Requirement already satisfied: charset-normalizer<3,>=2 in /opt/conda/lib/python3.7/site-packages (from requests->transformers) (2.1.0)\r\n",
      "\u001b[33mWARNING: Running pip as the 'root' user can result in broken permissions and conflicting behaviour with the system package manager. It is recommended to use a virtual environment instead: https://pip.pypa.io/warnings/venv\u001b[0m\u001b[33m\r\n",
      "\u001b[0m\u001b[33mWARNING: There was an error checking the latest version of pip.\u001b[0m\u001b[33m\r\n",
      "\u001b[0mRequirement already satisfied: sentencepiece in /opt/conda/lib/python3.7/site-packages (0.1.97)\r\n",
      "\u001b[33mWARNING: Running pip as the 'root' user can result in broken permissions and conflicting behaviour with the system package manager. It is recommended to use a virtual environment instead: https://pip.pypa.io/warnings/venv\u001b[0m\u001b[33m\r\n",
      "\u001b[0m\u001b[33mWARNING: There was an error checking the latest version of pip.\u001b[0m\u001b[33m\r\n",
      "\u001b[0m"
     ]
    }
   ],
   "source": [
    "import pandas as pd\n",
    "import numpy as np\n",
    "from sklearn.model_selection import train_test_split\n",
    "import time\n",
    "from scipy import stats\n",
    "from tqdm import tqdm\n",
    "\n",
    "import torch\n",
    "from torch import nn\n",
    "from torch.utils.data import Dataset, DataLoader\n",
    "\n",
    "!pip install transformers\n",
    "!pip install sentencepiece\n",
    "import tokenizers\n",
    "import transformers\n",
    "from transformers import AutoTokenizer, AutoModel, AutoConfig, AutoModelForSequenceClassification"
   ]
  },
  {
   "cell_type": "code",
   "execution_count": 3,
   "id": "5ba8f98e",
   "metadata": {
    "execution": {
     "iopub.execute_input": "2022-11-16T21:20:08.311107Z",
     "iopub.status.busy": "2022-11-16T21:20:08.309728Z",
     "iopub.status.idle": "2022-11-16T21:20:08.692248Z",
     "shell.execute_reply": "2022-11-16T21:20:08.691164Z"
    },
    "papermill": {
     "duration": 0.390306,
     "end_time": "2022-11-16T21:20:08.694989",
     "exception": false,
     "start_time": "2022-11-16T21:20:08.304683",
     "status": "completed"
    },
    "tags": []
   },
   "outputs": [],
   "source": [
    "model_name = 'microsoft/deberta-v3-small'\n",
    "tokenizer = AutoTokenizer.from_pretrained('../input/patentmatching', use_fast=True)"
   ]
  },
  {
   "cell_type": "code",
   "execution_count": 4,
   "id": "47316abf",
   "metadata": {
    "execution": {
     "iopub.execute_input": "2022-11-16T21:20:08.703976Z",
     "iopub.status.busy": "2022-11-16T21:20:08.703684Z",
     "iopub.status.idle": "2022-11-16T21:20:08.720322Z",
     "shell.execute_reply": "2022-11-16T21:20:08.719439Z"
    },
    "papermill": {
     "duration": 0.023531,
     "end_time": "2022-11-16T21:20:08.722390",
     "exception": false,
     "start_time": "2022-11-16T21:20:08.698859",
     "status": "completed"
    },
    "tags": []
   },
   "outputs": [],
   "source": [
    "df_test = pd.read_csv('../input/us-patent-phrase-to-phrase-matching/test.csv')"
   ]
  },
  {
   "cell_type": "code",
   "execution_count": 5,
   "id": "36e0fc06",
   "metadata": {
    "execution": {
     "iopub.execute_input": "2022-11-16T21:20:08.731170Z",
     "iopub.status.busy": "2022-11-16T21:20:08.730908Z",
     "iopub.status.idle": "2022-11-16T21:20:09.662683Z",
     "shell.execute_reply": "2022-11-16T21:20:09.661581Z"
    },
    "papermill": {
     "duration": 0.939144,
     "end_time": "2022-11-16T21:20:09.665370",
     "exception": false,
     "start_time": "2022-11-16T21:20:08.726226",
     "status": "completed"
    },
    "tags": []
   },
   "outputs": [],
   "source": [
    "context_mapping_df = pd.read_csv('../input/patentmatching/titles.csv')\n",
    "context_mapping = {}\n",
    "for code, context in zip(context_mapping_df['code'], context_mapping_df['title']):\n",
    "    context_mapping[code] = context\n",
    "\n",
    "context_title_mapping = {\"A\" : \"Human Necessities\", \n",
    "      \"B\" : \"Operations and Transport\",\n",
    "      \"C\" : \"Chemistry and Metallurgy\",\n",
    "      \"D\" : \"Textiles\",\n",
    "      \"E\" : \"Fixed Constructions\",\n",
    "      \"F\" : \"Mechanical Engineering\",\n",
    "      \"G\" : \"Physics\",\n",
    "      \"H\" : \"Electricity\",\n",
    "      \"Y\" : \"Emerging Cross-Sectional Technologies\"}\n",
    "\n",
    "df_test['context_text'] = df_test['context'].apply(lambda x: context_mapping[x].lower())\n",
    "df_test['context_title'] = df_test['context'].apply(lambda x: context_title_mapping[x[0]].lower())\n",
    "\n",
    "df_test['text'] = df_test['anchor'] + '[SEP]' + df_test['target'] + '[SEP]' + df_test['context_text']"
   ]
  },
  {
   "cell_type": "code",
   "execution_count": 6,
   "id": "c9fb7812",
   "metadata": {
    "execution": {
     "iopub.execute_input": "2022-11-16T21:20:09.675817Z",
     "iopub.status.busy": "2022-11-16T21:20:09.675446Z",
     "iopub.status.idle": "2022-11-16T21:20:09.680868Z",
     "shell.execute_reply": "2022-11-16T21:20:09.679728Z"
    },
    "papermill": {
     "duration": 0.013397,
     "end_time": "2022-11-16T21:20:09.683557",
     "exception": false,
     "start_time": "2022-11-16T21:20:09.670160",
     "status": "completed"
    },
    "tags": []
   },
   "outputs": [],
   "source": [
    "label_mapping = {0.0: 0, 0.25: 1, 0.5: 2, 0.75: 3, 1.0: 4}\n",
    "reverse_label_mapping = {}\n",
    "for k, v in label_mapping.items():\n",
    "    reverse_label_mapping[v] = k"
   ]
  },
  {
   "cell_type": "code",
   "execution_count": 7,
   "id": "2c37e751",
   "metadata": {
    "execution": {
     "iopub.execute_input": "2022-11-16T21:20:09.692481Z",
     "iopub.status.busy": "2022-11-16T21:20:09.692207Z",
     "iopub.status.idle": "2022-11-16T21:20:09.698550Z",
     "shell.execute_reply": "2022-11-16T21:20:09.697520Z"
    },
    "papermill": {
     "duration": 0.013517,
     "end_time": "2022-11-16T21:20:09.700943",
     "exception": false,
     "start_time": "2022-11-16T21:20:09.687426",
     "status": "completed"
    },
    "tags": []
   },
   "outputs": [],
   "source": [
    "class TestPatentDataset(Dataset):\n",
    "    def __init__(self, df, tokenizer, max_len):\n",
    "        self.texts = df['text'].values.tolist()\n",
    "        self.max_len = max_len\n",
    "    def __len__(self):\n",
    "        return len(self.texts)\n",
    "    def __getitem__(self, idx):\n",
    "        inputs = tokenizer(self.texts[idx], padding='max_length', max_length = self.max_len, truncation=True, return_tensors=\"pt\")\n",
    "        for k, v in inputs.items():\n",
    "            inputs[k] = v.squeeze(0)\n",
    "        return inputs"
   ]
  },
  {
   "cell_type": "code",
   "execution_count": 8,
   "id": "de75148b",
   "metadata": {
    "execution": {
     "iopub.execute_input": "2022-11-16T21:20:09.710574Z",
     "iopub.status.busy": "2022-11-16T21:20:09.709644Z",
     "iopub.status.idle": "2022-11-16T21:20:09.774181Z",
     "shell.execute_reply": "2022-11-16T21:20:09.773153Z"
    },
    "papermill": {
     "duration": 0.071933,
     "end_time": "2022-11-16T21:20:09.776623",
     "exception": false,
     "start_time": "2022-11-16T21:20:09.704690",
     "status": "completed"
    },
    "tags": []
   },
   "outputs": [],
   "source": [
    "device = torch.device('cuda' if torch.cuda.is_available() else 'cpu')\n",
    "batch_size = 16\n",
    "max_len = 100"
   ]
  },
  {
   "cell_type": "code",
   "execution_count": 9,
   "id": "abf2ed6f",
   "metadata": {
    "execution": {
     "iopub.execute_input": "2022-11-16T21:20:09.787216Z",
     "iopub.status.busy": "2022-11-16T21:20:09.785634Z",
     "iopub.status.idle": "2022-11-16T21:20:09.792137Z",
     "shell.execute_reply": "2022-11-16T21:20:09.791270Z"
    },
    "papermill": {
     "duration": 0.013373,
     "end_time": "2022-11-16T21:20:09.794110",
     "exception": false,
     "start_time": "2022-11-16T21:20:09.780737",
     "status": "completed"
    },
    "tags": []
   },
   "outputs": [],
   "source": [
    "test_dataset = TestPatentDataset(df_test, tokenizer, max_len)\n",
    "test_loader = DataLoader(test_dataset, batch_size=batch_size, shuffle=False, num_workers=2)"
   ]
  },
  {
   "cell_type": "code",
   "execution_count": 10,
   "id": "24922dbe",
   "metadata": {
    "execution": {
     "iopub.execute_input": "2022-11-16T21:20:09.803677Z",
     "iopub.status.busy": "2022-11-16T21:20:09.802908Z",
     "iopub.status.idle": "2022-11-16T21:20:09.811880Z",
     "shell.execute_reply": "2022-11-16T21:20:09.810984Z"
    },
    "papermill": {
     "duration": 0.016092,
     "end_time": "2022-11-16T21:20:09.813999",
     "exception": false,
     "start_time": "2022-11-16T21:20:09.797907",
     "status": "completed"
    },
    "tags": []
   },
   "outputs": [],
   "source": [
    "class CustomModel(nn.Module):\n",
    "    def __init__(self, model_name):\n",
    "        super().__init__()\n",
    "        self.model = AutoModel.from_pretrained('../input/patentmatching')\n",
    "        self.fc_dropout = nn.Dropout()\n",
    "        self.fc = nn.Linear(768, 5)\n",
    "        self.attention = nn.Sequential(\n",
    "            nn.Linear(768, 512),\n",
    "            nn.Tanh(),\n",
    "            nn.Linear(512, 1),\n",
    "            nn.Softmax(dim=1)\n",
    "        )\n",
    "    def forward(self, inputs):\n",
    "        outputs = self.model(**inputs)\n",
    "        last_hidden_states = outputs[0]\n",
    "        # feature = torch.mean(last_hidden_states, 1)\n",
    "        weights = self.attention(last_hidden_states)\n",
    "        feature = torch.sum(weights * last_hidden_states, dim=1)\n",
    "        output = self.fc(self.fc_dropout(feature))\n",
    "        return output"
   ]
  },
  {
   "cell_type": "code",
   "execution_count": 11,
   "id": "80901447",
   "metadata": {
    "execution": {
     "iopub.execute_input": "2022-11-16T21:20:09.822794Z",
     "iopub.status.busy": "2022-11-16T21:20:09.822465Z",
     "iopub.status.idle": "2022-11-16T21:20:25.830062Z",
     "shell.execute_reply": "2022-11-16T21:20:25.828854Z"
    },
    "papermill": {
     "duration": 16.014914,
     "end_time": "2022-11-16T21:20:25.832718",
     "exception": false,
     "start_time": "2022-11-16T21:20:09.817804",
     "status": "completed"
    },
    "tags": []
   },
   "outputs": [],
   "source": [
    "model = CustomModel(model_name)\n",
    "model.load_state_dict(torch.load(f'../input/patentmatching/patent_model_2.pth'))\n",
    "model = model.to(device)"
   ]
  },
  {
   "cell_type": "code",
   "execution_count": 12,
   "id": "7bb7a145",
   "metadata": {
    "execution": {
     "iopub.execute_input": "2022-11-16T21:20:25.843475Z",
     "iopub.status.busy": "2022-11-16T21:20:25.842446Z",
     "iopub.status.idle": "2022-11-16T21:20:27.190543Z",
     "shell.execute_reply": "2022-11-16T21:20:27.189202Z"
    },
    "papermill": {
     "duration": 1.356503,
     "end_time": "2022-11-16T21:20:27.193458",
     "exception": false,
     "start_time": "2022-11-16T21:20:25.836955",
     "status": "completed"
    },
    "tags": []
   },
   "outputs": [
    {
     "name": "stderr",
     "output_type": "stream",
     "text": [
      "100%|██████████| 3/3 [00:01<00:00,  2.25it/s]\n"
     ]
    }
   ],
   "source": [
    "model.eval()\n",
    "test_preds = []\n",
    "for inputs in tqdm(test_loader):\n",
    "    with torch.no_grad():\n",
    "        for k, v in inputs.items():\n",
    "            inputs[k] = v.to(device)\n",
    "        y_preds = model(inputs)\n",
    "        test_preds.append(y_preds.argmax(dim=-1).to('cpu').detach().numpy())\n",
    "predictions = np.concatenate(test_preds)"
   ]
  },
  {
   "cell_type": "code",
   "execution_count": 13,
   "id": "c6f0fda4",
   "metadata": {
    "execution": {
     "iopub.execute_input": "2022-11-16T21:20:27.205637Z",
     "iopub.status.busy": "2022-11-16T21:20:27.203877Z",
     "iopub.status.idle": "2022-11-16T21:20:27.220128Z",
     "shell.execute_reply": "2022-11-16T21:20:27.218844Z"
    },
    "papermill": {
     "duration": 0.024396,
     "end_time": "2022-11-16T21:20:27.222978",
     "exception": false,
     "start_time": "2022-11-16T21:20:27.198582",
     "status": "completed"
    },
    "tags": []
   },
   "outputs": [
    {
     "name": "stderr",
     "output_type": "stream",
     "text": [
      "/opt/conda/lib/python3.7/site-packages/ipykernel_launcher.py:3: SettingWithCopyWarning: \n",
      "A value is trying to be set on a copy of a slice from a DataFrame.\n",
      "Try using .loc[row_indexer,col_indexer] = value instead\n",
      "\n",
      "See the caveats in the documentation: https://pandas.pydata.org/pandas-docs/stable/user_guide/indexing.html#returning-a-view-versus-a-copy\n",
      "  This is separate from the ipykernel package so we can avoid doing imports until\n"
     ]
    }
   ],
   "source": [
    "submission_score = [reverse_label_mapping[i] for i in predictions]\n",
    "submission_df = df_test[['id']]\n",
    "submission_df['score'] = submission_score\n",
    "submission_df.to_csv('./submission.csv', index=False)"
   ]
  }
 ],
 "metadata": {
  "kernelspec": {
   "display_name": "Python 3",
   "language": "python",
   "name": "python3"
  },
  "language_info": {
   "codemirror_mode": {
    "name": "ipython",
    "version": 3
   },
   "file_extension": ".py",
   "mimetype": "text/x-python",
   "name": "python",
   "nbconvert_exporter": "python",
   "pygments_lexer": "ipython3",
   "version": "3.7.12"
  },
  "papermill": {
   "default_parameters": {},
   "duration": 93.408271,
   "end_time": "2022-11-16T21:20:29.650877",
   "environment_variables": {},
   "exception": null,
   "input_path": "__notebook__.ipynb",
   "output_path": "__notebook__.ipynb",
   "parameters": {},
   "start_time": "2022-11-16T21:18:56.242606",
   "version": "2.3.4"
  }
 },
 "nbformat": 4,
 "nbformat_minor": 5
}
