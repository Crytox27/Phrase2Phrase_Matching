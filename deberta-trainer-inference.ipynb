{
 "cells": [
  {
   "cell_type": "code",
   "execution_count": 1,
   "id": "a4d021d8",
   "metadata": {
    "execution": {
     "iopub.execute_input": "2022-12-14T01:56:54.823195Z",
     "iopub.status.busy": "2022-12-14T01:56:54.822198Z",
     "iopub.status.idle": "2022-12-14T01:58:13.885933Z",
     "shell.execute_reply": "2022-12-14T01:58:13.884926Z"
    },
    "papermill": {
     "duration": 79.071506,
     "end_time": "2022-12-14T01:58:13.888577",
     "exception": false,
     "start_time": "2022-12-14T01:56:54.817071",
     "status": "completed"
    },
    "tags": []
   },
   "outputs": [
    {
     "name": "stdout",
     "output_type": "stream",
     "text": [
      "Requirement already satisfied: transformers in /opt/conda/lib/python3.7/site-packages (4.20.1)\r\n",
      "Requirement already satisfied: regex!=2019.12.17 in /opt/conda/lib/python3.7/site-packages (from transformers) (2021.11.10)\r\n",
      "Requirement already satisfied: tqdm>=4.27 in /opt/conda/lib/python3.7/site-packages (from transformers) (4.64.0)\r\n",
      "Requirement already satisfied: huggingface-hub<1.0,>=0.1.0 in /opt/conda/lib/python3.7/site-packages (from transformers) (0.10.1)\r\n",
      "Requirement already satisfied: tokenizers!=0.11.3,<0.13,>=0.11.1 in /opt/conda/lib/python3.7/site-packages (from transformers) (0.12.1)\r\n",
      "Requirement already satisfied: pyyaml>=5.1 in /opt/conda/lib/python3.7/site-packages (from transformers) (6.0)\r\n",
      "Requirement already satisfied: filelock in /opt/conda/lib/python3.7/site-packages (from transformers) (3.7.1)\r\n",
      "Requirement already satisfied: importlib-metadata in /opt/conda/lib/python3.7/site-packages (from transformers) (4.13.0)\r\n",
      "Requirement already satisfied: requests in /opt/conda/lib/python3.7/site-packages (from transformers) (2.28.1)\r\n",
      "Requirement already satisfied: packaging>=20.0 in /opt/conda/lib/python3.7/site-packages (from transformers) (21.3)\r\n",
      "Requirement already satisfied: numpy>=1.17 in /opt/conda/lib/python3.7/site-packages (from transformers) (1.21.6)\r\n",
      "Requirement already satisfied: typing-extensions>=3.7.4.3 in /opt/conda/lib/python3.7/site-packages (from huggingface-hub<1.0,>=0.1.0->transformers) (4.1.1)\r\n",
      "Requirement already satisfied: pyparsing!=3.0.5,>=2.0.2 in /opt/conda/lib/python3.7/site-packages (from packaging>=20.0->transformers) (3.0.9)\r\n",
      "Requirement already satisfied: zipp>=0.5 in /opt/conda/lib/python3.7/site-packages (from importlib-metadata->transformers) (3.8.0)\r\n",
      "Requirement already satisfied: idna<4,>=2.5 in /opt/conda/lib/python3.7/site-packages (from requests->transformers) (3.3)\r\n",
      "Requirement already satisfied: urllib3<1.27,>=1.21.1 in /opt/conda/lib/python3.7/site-packages (from requests->transformers) (1.26.12)\r\n",
      "Requirement already satisfied: charset-normalizer<3,>=2 in /opt/conda/lib/python3.7/site-packages (from requests->transformers) (2.1.0)\r\n",
      "Requirement already satisfied: certifi>=2017.4.17 in /opt/conda/lib/python3.7/site-packages (from requests->transformers) (2022.9.24)\r\n",
      "\u001b[33mWARNING: Running pip as the 'root' user can result in broken permissions and conflicting behaviour with the system package manager. It is recommended to use a virtual environment instead: https://pip.pypa.io/warnings/venv\u001b[0m\u001b[33m\r\n",
      "\u001b[0m\u001b[33mWARNING: There was an error checking the latest version of pip.\u001b[0m\u001b[33m\r\n",
      "\u001b[0mRequirement already satisfied: sentencepiece in /opt/conda/lib/python3.7/site-packages (0.1.97)\r\n",
      "\u001b[33mWARNING: Running pip as the 'root' user can result in broken permissions and conflicting behaviour with the system package manager. It is recommended to use a virtual environment instead: https://pip.pypa.io/warnings/venv\u001b[0m\u001b[33m\r\n",
      "\u001b[0m\u001b[33mWARNING: There was an error checking the latest version of pip.\u001b[0m\u001b[33m\r\n",
      "\u001b[0m"
     ]
    }
   ],
   "source": [
    "import pandas as pd\n",
    "import numpy as np\n",
    "from sklearn.model_selection import train_test_split\n",
    "import time\n",
    "from scipy import stats\n",
    "from sklearn.metrics import accuracy_score, recall_score, precision_score, f1_score\n",
    "from tqdm import tqdm\n",
    "\n",
    "import torch\n",
    "from torch import nn\n",
    "from torch.utils.data import Dataset, DataLoader\n",
    "\n",
    "!pip install transformers\n",
    "!pip install sentencepiece\n",
    "import tokenizers\n",
    "import transformers\n",
    "from transformers import AutoTokenizer, AutoModel, AutoConfig, AutoModelForSequenceClassification\n",
    "from transformers import TrainingArguments, Trainer\n",
    "from transformers import EarlyStoppingCallback\n",
    "from transformers.integrations import TensorBoardCallback\n",
    "\n",
    "pd.set_option('display.max_colwidth', 250)\n",
    "pd.set_option('display.max_rows', 250)"
   ]
  },
  {
   "cell_type": "code",
   "execution_count": 2,
   "id": "e76cffae",
   "metadata": {
    "execution": {
     "iopub.execute_input": "2022-12-14T01:58:13.899190Z",
     "iopub.status.busy": "2022-12-14T01:58:13.897460Z",
     "iopub.status.idle": "2022-12-14T01:58:13.905901Z",
     "shell.execute_reply": "2022-12-14T01:58:13.905049Z"
    },
    "papermill": {
     "duration": 0.014867,
     "end_time": "2022-12-14T01:58:13.907750",
     "exception": false,
     "start_time": "2022-12-14T01:58:13.892883",
     "status": "completed"
    },
    "tags": []
   },
   "outputs": [],
   "source": [
    "model_name = 'microsoft/deberta-v3-base'\n",
    "output_dir=\"./deberta_new_output\"\n",
    "logging_dir= './logs'\n",
    "overwrite_output_dir=True\n",
    "max_len=128\n",
    "\n",
    "num_train_epochs=20\n",
    "max_steps=-1\n",
    "evaluation_strategy=\"steps\"\n",
    "eval_steps=250\n",
    "metric_for_best_model='eval_corr_scipy'\n",
    "early_stop_patience=3\n",
    "\n",
    "per_device_train_batch_size=32\n",
    "per_device_eval_batch_size=32\n",
    "gradient_accumulation_steps=1\n",
    "dataloader_num_workers=2\n",
    "\n",
    "save_steps=250 # must be a round multiple of eval_steps\n",
    "load_best_model_at_end=True\n",
    "save_total_limit=2\n",
    "log_level='info'\n",
    "# log_level='debug'\n",
    "logging_steps=250\n",
    "logging_first_step=True\n",
    "\n",
    "report_to=\"none\"\n",
    "\n",
    "learning_rate=0.00005\n",
    "weight_decay=0.01\n",
    "adam_beta1=0.9\n",
    "adam_beta2=0.999\n",
    "adam_epsilon=1e-08\n",
    "lr_scheduler_type='cosine'\n",
    "warmup_steps=400"
   ]
  },
  {
   "cell_type": "code",
   "execution_count": 3,
   "id": "a4896ecb",
   "metadata": {
    "execution": {
     "iopub.execute_input": "2022-12-14T01:58:13.916288Z",
     "iopub.status.busy": "2022-12-14T01:58:13.915991Z",
     "iopub.status.idle": "2022-12-14T01:58:14.026732Z",
     "shell.execute_reply": "2022-12-14T01:58:14.025782Z"
    },
    "papermill": {
     "duration": 0.117822,
     "end_time": "2022-12-14T01:58:14.029361",
     "exception": false,
     "start_time": "2022-12-14T01:58:13.911539",
     "status": "completed"
    },
    "tags": []
   },
   "outputs": [],
   "source": [
    "df_train = pd.read_csv('../input/us-patent-phrase-to-phrase-matching/train.csv')\n",
    "df_test = pd.read_csv('../input/us-patent-phrase-to-phrase-matching/test.csv')"
   ]
  },
  {
   "cell_type": "code",
   "execution_count": 4,
   "id": "93fc2630",
   "metadata": {
    "execution": {
     "iopub.execute_input": "2022-12-14T01:58:14.038588Z",
     "iopub.status.busy": "2022-12-14T01:58:14.037681Z",
     "iopub.status.idle": "2022-12-14T01:58:14.395996Z",
     "shell.execute_reply": "2022-12-14T01:58:14.394960Z"
    },
    "papermill": {
     "duration": 0.365227,
     "end_time": "2022-12-14T01:58:14.398468",
     "exception": false,
     "start_time": "2022-12-14T01:58:14.033241",
     "status": "completed"
    },
    "tags": []
   },
   "outputs": [],
   "source": [
    "tokenizer = AutoTokenizer.from_pretrained('/kaggle/input/deberta-trainer-1/tokenizer')"
   ]
  },
  {
   "cell_type": "code",
   "execution_count": 5,
   "id": "017ce9cb",
   "metadata": {
    "execution": {
     "iopub.execute_input": "2022-12-14T01:58:14.408099Z",
     "iopub.status.busy": "2022-12-14T01:58:14.406627Z",
     "iopub.status.idle": "2022-12-14T01:58:15.276276Z",
     "shell.execute_reply": "2022-12-14T01:58:15.275308Z"
    },
    "papermill": {
     "duration": 0.876668,
     "end_time": "2022-12-14T01:58:15.278784",
     "exception": false,
     "start_time": "2022-12-14T01:58:14.402116",
     "status": "completed"
    },
    "tags": []
   },
   "outputs": [],
   "source": [
    "context_mapping_df = pd.read_csv('/kaggle/input/patentmatching-titles/titles.csv')\n",
    "context_mapping = {}\n",
    "for code, context in zip(context_mapping_df['code'], context_mapping_df['title']):\n",
    "    context_mapping[code] = context\n",
    "\n",
    "context_title_mapping = {\"A\" : \"Human Necessities\", \n",
    "      \"B\" : \"Operations and Transport\",\n",
    "      \"C\" : \"Chemistry and Metallurgy\",\n",
    "      \"D\" : \"Textiles\",\n",
    "      \"E\" : \"Fixed Constructions\",\n",
    "      \"F\" : \"Mechanical Engineering\",\n",
    "      \"G\" : \"Physics\",\n",
    "      \"H\" : \"Electricity\",\n",
    "      \"Y\" : \"Emerging Cross-Sectional Technologies\"}\n",
    "\n",
    "df_test['context_text'] = df_test['context'].apply(lambda x: context_mapping[x].lower())\n",
    "df_test['context_title'] = df_test['context'].apply(lambda x: context_title_mapping[x[0]].lower())\n",
    "\n",
    "df_test['text'] = df_test['anchor'] + '[SEP]' + df_test['target'] + '[SEP]' + df_test['context_text']"
   ]
  },
  {
   "cell_type": "code",
   "execution_count": 6,
   "id": "f97b3ecd",
   "metadata": {
    "execution": {
     "iopub.execute_input": "2022-12-14T01:58:15.287638Z",
     "iopub.status.busy": "2022-12-14T01:58:15.286914Z",
     "iopub.status.idle": "2022-12-14T01:58:15.294292Z",
     "shell.execute_reply": "2022-12-14T01:58:15.293404Z"
    },
    "papermill": {
     "duration": 0.01376,
     "end_time": "2022-12-14T01:58:15.296332",
     "exception": false,
     "start_time": "2022-12-14T01:58:15.282572",
     "status": "completed"
    },
    "tags": []
   },
   "outputs": [],
   "source": [
    "class TestPatentDataset(Dataset):\n",
    "    def __init__(self, df, tokenizer, max_len):\n",
    "        self.texts = df['text'].values.tolist()\n",
    "        self.max_len = max_len\n",
    "        self.tokenizer = tokenizer\n",
    "    def __len__(self):\n",
    "        return len(self.texts)\n",
    "    def __getitem__(self, idx):\n",
    "        inputs_dict = self.tokenizer(self.texts[idx], padding='max_length', max_length = self.max_len, truncation=True, return_tensors=\"pt\")\n",
    "        for k, v in inputs_dict.items():\n",
    "            inputs_dict[k] = v.squeeze(0)\n",
    "#         inputs_dict['labels'] = torch.tensor(self.labels[idx], dtype=torch.float)\n",
    "        return inputs_dict"
   ]
  },
  {
   "cell_type": "code",
   "execution_count": 7,
   "id": "6aa9a7d9",
   "metadata": {
    "execution": {
     "iopub.execute_input": "2022-12-14T01:58:15.304098Z",
     "iopub.status.busy": "2022-12-14T01:58:15.303826Z",
     "iopub.status.idle": "2022-12-14T01:58:15.308147Z",
     "shell.execute_reply": "2022-12-14T01:58:15.307161Z"
    },
    "papermill": {
     "duration": 0.01058,
     "end_time": "2022-12-14T01:58:15.310224",
     "exception": false,
     "start_time": "2022-12-14T01:58:15.299644",
     "status": "completed"
    },
    "tags": []
   },
   "outputs": [],
   "source": [
    "test_dataset = TestPatentDataset(df_test, tokenizer, max_len)"
   ]
  },
  {
   "cell_type": "code",
   "execution_count": 8,
   "id": "a5df6871",
   "metadata": {
    "execution": {
     "iopub.execute_input": "2022-12-14T01:58:15.318819Z",
     "iopub.status.busy": "2022-12-14T01:58:15.318549Z",
     "iopub.status.idle": "2022-12-14T01:58:15.323527Z",
     "shell.execute_reply": "2022-12-14T01:58:15.322706Z"
    },
    "papermill": {
     "duration": 0.011671,
     "end_time": "2022-12-14T01:58:15.325629",
     "exception": false,
     "start_time": "2022-12-14T01:58:15.313958",
     "status": "completed"
    },
    "tags": []
   },
   "outputs": [],
   "source": [
    "checkpoint_id = 3000"
   ]
  },
  {
   "cell_type": "code",
   "execution_count": 9,
   "id": "4f532b3b",
   "metadata": {
    "execution": {
     "iopub.execute_input": "2022-12-14T01:58:15.333780Z",
     "iopub.status.busy": "2022-12-14T01:58:15.333235Z",
     "iopub.status.idle": "2022-12-14T01:58:30.843955Z",
     "shell.execute_reply": "2022-12-14T01:58:30.842921Z"
    },
    "papermill": {
     "duration": 15.517508,
     "end_time": "2022-12-14T01:58:30.846422",
     "exception": false,
     "start_time": "2022-12-14T01:58:15.328914",
     "status": "completed"
    },
    "tags": []
   },
   "outputs": [],
   "source": [
    "model_path = f\"/kaggle/input/deberta-trainer-1/deberta_new_output/checkpoint-{checkpoint_id}\"\n",
    "model = AutoModelForSequenceClassification.from_pretrained(model_path, num_labels=1) \n",
    "\n",
    "args = TrainingArguments(\n",
    "    output_dir='tmp',\n",
    "    per_device_train_batch_size=per_device_train_batch_size,\n",
    "    per_device_eval_batch_size=per_device_eval_batch_size,\n",
    "    report_to='none'\n",
    ")\n",
    "test_trainer = Trainer(\n",
    "    model=model,\n",
    "    args=args\n",
    ")"
   ]
  },
  {
   "cell_type": "code",
   "execution_count": 10,
   "id": "fd4f5236",
   "metadata": {
    "execution": {
     "iopub.execute_input": "2022-12-14T01:58:30.856454Z",
     "iopub.status.busy": "2022-12-14T01:58:30.854757Z",
     "iopub.status.idle": "2022-12-14T01:58:38.732184Z",
     "shell.execute_reply": "2022-12-14T01:58:38.731151Z"
    },
    "papermill": {
     "duration": 7.884281,
     "end_time": "2022-12-14T01:58:38.734518",
     "exception": false,
     "start_time": "2022-12-14T01:58:30.850237",
     "status": "completed"
    },
    "tags": []
   },
   "outputs": [
    {
     "name": "stderr",
     "output_type": "stream",
     "text": [
      "***** Running Prediction *****\n",
      "  Num examples = 36\n",
      "  Batch size = 64\n"
     ]
    },
    {
     "data": {
      "text/html": [
       "\n",
       "    <div>\n",
       "      \n",
       "      <progress value='1' max='1' style='width:300px; height:20px; vertical-align: middle;'></progress>\n",
       "      [1/1 : < :]\n",
       "    </div>\n",
       "    "
      ],
      "text/plain": [
       "<IPython.core.display.HTML object>"
      ]
     },
     "metadata": {},
     "output_type": "display_data"
    }
   ],
   "source": [
    "raw_pred, _, _ = test_trainer.predict(test_dataset)"
   ]
  },
  {
   "cell_type": "code",
   "execution_count": 11,
   "id": "b8cfd6a9",
   "metadata": {
    "execution": {
     "iopub.execute_input": "2022-12-14T01:58:38.744626Z",
     "iopub.status.busy": "2022-12-14T01:58:38.743378Z",
     "iopub.status.idle": "2022-12-14T01:58:38.759759Z",
     "shell.execute_reply": "2022-12-14T01:58:38.758217Z"
    },
    "papermill": {
     "duration": 0.023302,
     "end_time": "2022-12-14T01:58:38.761919",
     "exception": false,
     "start_time": "2022-12-14T01:58:38.738617",
     "status": "completed"
    },
    "tags": []
   },
   "outputs": [
    {
     "name": "stderr",
     "output_type": "stream",
     "text": [
      "/opt/conda/lib/python3.7/site-packages/ipykernel_launcher.py:2: SettingWithCopyWarning: \n",
      "A value is trying to be set on a copy of a slice from a DataFrame.\n",
      "Try using .loc[row_indexer,col_indexer] = value instead\n",
      "\n",
      "See the caveats in the documentation: https://pandas.pydata.org/pandas-docs/stable/user_guide/indexing.html#returning-a-view-versus-a-copy\n",
      "  \n"
     ]
    }
   ],
   "source": [
    "submission_df = df_test[['id']]\n",
    "submission_df['score'] = raw_pred\n",
    "submission_df.to_csv('./submission.csv', index=False)"
   ]
  }
 ],
 "metadata": {
  "kernelspec": {
   "display_name": "Python 3",
   "language": "python",
   "name": "python3"
  },
  "language_info": {
   "codemirror_mode": {
    "name": "ipython",
    "version": 3
   },
   "file_extension": ".py",
   "mimetype": "text/x-python",
   "name": "python",
   "nbconvert_exporter": "python",
   "pygments_lexer": "ipython3",
   "version": "3.7.12"
  },
  "papermill": {
   "default_parameters": {},
   "duration": 118.122563,
   "end_time": "2022-12-14T01:58:41.962543",
   "environment_variables": {},
   "exception": null,
   "input_path": "__notebook__.ipynb",
   "output_path": "__notebook__.ipynb",
   "parameters": {},
   "start_time": "2022-12-14T01:56:43.839980",
   "version": "2.3.4"
  }
 },
 "nbformat": 4,
 "nbformat_minor": 5
}
